{
 "cells": [
  {
   "cell_type": "code",
   "execution_count": 9,
   "id": "3554f681",
   "metadata": {},
   "outputs": [],
   "source": [
    "import pandas as pd\n",
    "from datasets import load_dataset\n",
    "import matplotlib.pyplot as plt\n",
    "\n",
    "# loading data\n",
    "dataset = load_dataset('lukebarousse/data_jobs')\n",
    "df = dataset['train'].to_pandas()\n",
    "\n",
    "# convert to datetime\n",
    "df['job_posted_date'] = pd.to_datetime(df['job_posted_date'])"
   ]
  },
  {
   "cell_type": "code",
   "execution_count": null,
   "id": "7cb460c7",
   "metadata": {},
   "outputs": [],
   "source": [
    "df[pd.notna(df['salary_year_avg'])]['salary_year_avg']"
   ]
  },
  {
   "cell_type": "code",
   "execution_count": 37,
   "id": "1de37df1",
   "metadata": {},
   "outputs": [],
   "source": [
    "df_salary = df[pd.notna(df['salary_year_avg'])].copy()"
   ]
  },
  {
   "cell_type": "code",
   "execution_count": 21,
   "id": "6ad32bba",
   "metadata": {},
   "outputs": [
    {
     "data": {
      "text/html": [
       "<div>\n",
       "<style scoped>\n",
       "    .dataframe tbody tr th:only-of-type {\n",
       "        vertical-align: middle;\n",
       "    }\n",
       "\n",
       "    .dataframe tbody tr th {\n",
       "        vertical-align: top;\n",
       "    }\n",
       "\n",
       "    .dataframe thead th {\n",
       "        text-align: right;\n",
       "    }\n",
       "</style>\n",
       "<table border=\"1\" class=\"dataframe\">\n",
       "  <thead>\n",
       "    <tr style=\"text-align: right;\">\n",
       "      <th></th>\n",
       "      <th>job_title_short</th>\n",
       "      <th>job_title</th>\n",
       "      <th>job_location</th>\n",
       "      <th>job_via</th>\n",
       "      <th>job_schedule_type</th>\n",
       "      <th>job_work_from_home</th>\n",
       "      <th>search_location</th>\n",
       "      <th>job_posted_date</th>\n",
       "      <th>job_no_degree_mention</th>\n",
       "      <th>job_health_insurance</th>\n",
       "      <th>job_country</th>\n",
       "      <th>salary_rate</th>\n",
       "      <th>salary_year_avg</th>\n",
       "      <th>salary_hour_avg</th>\n",
       "      <th>company_name</th>\n",
       "      <th>job_skills</th>\n",
       "      <th>job_type_skills</th>\n",
       "      <th>salary_year_inflated</th>\n",
       "    </tr>\n",
       "  </thead>\n",
       "  <tbody>\n",
       "    <tr>\n",
       "      <th>304216</th>\n",
       "      <td>Senior Data Engineer</td>\n",
       "      <td>Sr. Data Engineer - ASM Analytics</td>\n",
       "      <td>Bengaluru, Karnataka, India</td>\n",
       "      <td>via Ai-Jobs.net</td>\n",
       "      <td>Full-time</td>\n",
       "      <td>False</td>\n",
       "      <td>India</td>\n",
       "      <td>2023-04-12 17:30:13</td>\n",
       "      <td>False</td>\n",
       "      <td>False</td>\n",
       "      <td>India</td>\n",
       "      <td>year</td>\n",
       "      <td>147500.0</td>\n",
       "      <td>NaN</td>\n",
       "      <td>Visa</td>\n",
       "      <td>[sql, python, javascript, css, sql server, had...</td>\n",
       "      <td>{'analyst_tools': ['excel', 'tableau'], 'datab...</td>\n",
       "      <td>151925.0</td>\n",
       "    </tr>\n",
       "    <tr>\n",
       "      <th>578202</th>\n",
       "      <td>Data Engineer</td>\n",
       "      <td>Data Engineer, BPE</td>\n",
       "      <td>Menlo Park, CA</td>\n",
       "      <td>via Ladders</td>\n",
       "      <td>Full-time</td>\n",
       "      <td>False</td>\n",
       "      <td>Texas, United States</td>\n",
       "      <td>2023-06-20 09:06:35</td>\n",
       "      <td>False</td>\n",
       "      <td>True</td>\n",
       "      <td>United States</td>\n",
       "      <td>year</td>\n",
       "      <td>175000.0</td>\n",
       "      <td>NaN</td>\n",
       "      <td>Meta</td>\n",
       "      <td>[sql, python]</td>\n",
       "      <td>{'programming': ['sql', 'python']}</td>\n",
       "      <td>180250.0</td>\n",
       "    </tr>\n",
       "  </tbody>\n",
       "</table>\n",
       "</div>"
      ],
      "text/plain": [
       "             job_title_short                          job_title  \\\n",
       "304216  Senior Data Engineer  Sr. Data Engineer - ASM Analytics   \n",
       "578202         Data Engineer                 Data Engineer, BPE   \n",
       "\n",
       "                       job_location          job_via job_schedule_type  \\\n",
       "304216  Bengaluru, Karnataka, India  via Ai-Jobs.net         Full-time   \n",
       "578202               Menlo Park, CA      via Ladders         Full-time   \n",
       "\n",
       "        job_work_from_home       search_location     job_posted_date  \\\n",
       "304216               False                 India 2023-04-12 17:30:13   \n",
       "578202               False  Texas, United States 2023-06-20 09:06:35   \n",
       "\n",
       "        job_no_degree_mention  job_health_insurance    job_country  \\\n",
       "304216                  False                 False          India   \n",
       "578202                  False                  True  United States   \n",
       "\n",
       "       salary_rate  salary_year_avg  salary_hour_avg company_name  \\\n",
       "304216        year         147500.0              NaN         Visa   \n",
       "578202        year         175000.0              NaN         Meta   \n",
       "\n",
       "                                               job_skills  \\\n",
       "304216  [sql, python, javascript, css, sql server, had...   \n",
       "578202                                      [sql, python]   \n",
       "\n",
       "                                          job_type_skills  \\\n",
       "304216  {'analyst_tools': ['excel', 'tableau'], 'datab...   \n",
       "578202                 {'programming': ['sql', 'python']}   \n",
       "\n",
       "        salary_year_inflated  \n",
       "304216              151925.0  \n",
       "578202              180250.0  "
      ]
     },
     "execution_count": 21,
     "metadata": {},
     "output_type": "execute_result"
    }
   ],
   "source": [
    "df_salary.sample(2)"
   ]
  },
  {
   "cell_type": "code",
   "execution_count": 36,
   "id": "94545afd",
   "metadata": {},
   "outputs": [
    {
     "data": {
      "text/html": [
       "<div>\n",
       "<style scoped>\n",
       "    .dataframe tbody tr th:only-of-type {\n",
       "        vertical-align: middle;\n",
       "    }\n",
       "\n",
       "    .dataframe tbody tr th {\n",
       "        vertical-align: top;\n",
       "    }\n",
       "\n",
       "    .dataframe thead th {\n",
       "        text-align: right;\n",
       "    }\n",
       "</style>\n",
       "<table border=\"1\" class=\"dataframe\">\n",
       "  <thead>\n",
       "    <tr style=\"text-align: right;\">\n",
       "      <th></th>\n",
       "      <th>salary_year_avg</th>\n",
       "      <th>salary_year_inflated</th>\n",
       "    </tr>\n",
       "  </thead>\n",
       "  <tbody>\n",
       "    <tr>\n",
       "      <th>567253</th>\n",
       "      <td>114500.0</td>\n",
       "      <td>117935.0</td>\n",
       "    </tr>\n",
       "    <tr>\n",
       "      <th>641396</th>\n",
       "      <td>86450.0</td>\n",
       "      <td>89043.5</td>\n",
       "    </tr>\n",
       "    <tr>\n",
       "      <th>670736</th>\n",
       "      <td>175000.0</td>\n",
       "      <td>180250.0</td>\n",
       "    </tr>\n",
       "  </tbody>\n",
       "</table>\n",
       "</div>"
      ],
      "text/plain": [
       "        salary_year_avg  salary_year_inflated\n",
       "567253         114500.0              117935.0\n",
       "641396          86450.0               89043.5\n",
       "670736         175000.0              180250.0"
      ]
     },
     "execution_count": 36,
     "metadata": {},
     "output_type": "execute_result"
    }
   ],
   "source": [
    "def projected_salary(salary):\n",
    "  return salary * 1.03\n",
    "\n",
    "df_salary['salary_year_inflated'] = df_salary['salary_year_avg'].apply(projected_salary)\n",
    "\n",
    "df_salary[['salary_year_avg', 'salary_year_inflated']].sample(3, random_state=1)"
   ]
  },
  {
   "cell_type": "code",
   "execution_count": 33,
   "id": "ad2018ae",
   "metadata": {},
   "outputs": [],
   "source": [
    "def projected_salary(row):\n",
    "  if \"Senior\" in row['job_title_short']:\n",
    "    return row['salary_year_avg'] * 1.05\n",
    "  else:\n",
    "    return row['salary_year_avg'] * 1.03\n",
    "\n",
    "df_salary['salary_year_inflated'] = df_salary.apply(projected_salary, axis=1) "
   ]
  },
  {
   "cell_type": "code",
   "execution_count": 39,
   "id": "656e8beb",
   "metadata": {},
   "outputs": [],
   "source": [
    "df_salary['salary_year_inflated'] = df_salary.apply(lambda row: row['salary_year_avg'] * 1.05 if \"Senior\" in row['job_title_short'] else row['salary_year_avg'] * 1.03, axis=1)"
   ]
  },
  {
   "cell_type": "code",
   "execution_count": 40,
   "id": "7490e8f6",
   "metadata": {},
   "outputs": [
    {
     "data": {
      "text/html": [
       "<div>\n",
       "<style scoped>\n",
       "    .dataframe tbody tr th:only-of-type {\n",
       "        vertical-align: middle;\n",
       "    }\n",
       "\n",
       "    .dataframe tbody tr th {\n",
       "        vertical-align: top;\n",
       "    }\n",
       "\n",
       "    .dataframe thead th {\n",
       "        text-align: right;\n",
       "    }\n",
       "</style>\n",
       "<table border=\"1\" class=\"dataframe\">\n",
       "  <thead>\n",
       "    <tr style=\"text-align: right;\">\n",
       "      <th></th>\n",
       "      <th>job_title_short</th>\n",
       "      <th>salary_year_avg</th>\n",
       "      <th>salary_year_inflated</th>\n",
       "    </tr>\n",
       "  </thead>\n",
       "  <tbody>\n",
       "    <tr>\n",
       "      <th>567253</th>\n",
       "      <td>Data Scientist</td>\n",
       "      <td>114500.0</td>\n",
       "      <td>117935.0</td>\n",
       "    </tr>\n",
       "    <tr>\n",
       "      <th>641396</th>\n",
       "      <td>Data Analyst</td>\n",
       "      <td>86450.0</td>\n",
       "      <td>89043.5</td>\n",
       "    </tr>\n",
       "    <tr>\n",
       "      <th>670736</th>\n",
       "      <td>Senior Data Scientist</td>\n",
       "      <td>175000.0</td>\n",
       "      <td>183750.0</td>\n",
       "    </tr>\n",
       "  </tbody>\n",
       "</table>\n",
       "</div>"
      ],
      "text/plain": [
       "              job_title_short  salary_year_avg  salary_year_inflated\n",
       "567253         Data Scientist         114500.0              117935.0\n",
       "641396           Data Analyst          86450.0               89043.5\n",
       "670736  Senior Data Scientist         175000.0              183750.0"
      ]
     },
     "execution_count": 40,
     "metadata": {},
     "output_type": "execute_result"
    }
   ],
   "source": [
    "df_salary[['job_title_short', 'salary_year_avg', 'salary_year_inflated']].sample(3, random_state=1)"
   ]
  },
  {
   "cell_type": "code",
   "execution_count": null,
   "id": "b8c24616",
   "metadata": {},
   "outputs": [],
   "source": [
    "# df_salary_2['projected_salary'] = df['salary_year_avg'].apply(lambda salary: salary * 1.03)\n",
    "# df_salary_2[['salary_year_avg', 'projected_salary']].head()"
   ]
  },
  {
   "cell_type": "code",
   "execution_count": null,
   "id": "72b5151a",
   "metadata": {},
   "outputs": [],
   "source": [
    "# df_salary_3['projected_salary'] = df_salary_3['salary_year_avg'] * 1.03\n",
    "# df_salary_3[['salary_year_avg', 'projected_salary']].head()"
   ]
  },
  {
   "cell_type": "code",
   "execution_count": null,
   "id": "605c342c",
   "metadata": {},
   "outputs": [],
   "source": [
    "df['job_skills'][1]"
   ]
  },
  {
   "cell_type": "code",
   "execution_count": null,
   "id": "91f8333e",
   "metadata": {},
   "outputs": [],
   "source": [
    "# list(df['job_skills'][1])\n",
    "\n",
    "import ast\n",
    "type(ast.literal_eval(df['job_skills'][1]))"
   ]
  },
  {
   "cell_type": "code",
   "execution_count": null,
   "id": "4924e861",
   "metadata": {},
   "outputs": [],
   "source": [
    "def clean_list(skill_list):\n",
    "  if pd.notna(skill_list):\n",
    "    return ast.literal_eval(skill_list)\n",
    "\n",
    "df['job_skills'] = df['job_skills'].apply(clean_list)"
   ]
  },
  {
   "cell_type": "code",
   "execution_count": 12,
   "id": "633d022e",
   "metadata": {},
   "outputs": [],
   "source": [
    "df['job_skills'] = df['job_skills'].apply(lambda skill_list: ast.literal_eval(skill_list) if pd.notna(skill_list) else skill_list)"
   ]
  },
  {
   "cell_type": "code",
   "execution_count": 13,
   "id": "63e52a76",
   "metadata": {},
   "outputs": [
    {
     "data": {
      "text/plain": [
       "['r', 'python', 'sql', 'nosql', 'power bi', 'tableau']"
      ]
     },
     "execution_count": 13,
     "metadata": {},
     "output_type": "execute_result"
    }
   ],
   "source": [
    "# df[pd.isna(df['job_skills'])] # check if there are missing values\n",
    "df['job_skills'][1]"
   ]
  }
 ],
 "metadata": {
  "kernelspec": {
   "display_name": "project_course",
   "language": "python",
   "name": "python3"
  },
  "language_info": {
   "codemirror_mode": {
    "name": "ipython",
    "version": 3
   },
   "file_extension": ".py",
   "mimetype": "text/x-python",
   "name": "python",
   "nbconvert_exporter": "python",
   "pygments_lexer": "ipython3",
   "version": "3.13.5"
  }
 },
 "nbformat": 4,
 "nbformat_minor": 5
}

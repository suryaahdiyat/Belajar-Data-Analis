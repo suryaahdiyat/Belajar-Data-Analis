{
 "cells": [
  {
   "cell_type": "code",
   "execution_count": null,
   "id": "5889d4b2",
   "metadata": {},
   "outputs": [],
   "source": [
    "import pandas as pd\n",
    "from datasets import load_dataset\n",
    "import matplotlib.pyplot as plt\n",
    "\n",
    "# loading data\n",
    "dataset = load_dataset('lukebarousse/data_jobs')\n",
    "df = dataset['train'].to_pandas()\n",
    "\n",
    "# convert to datetime\n",
    "df['job_posted_date'] = pd.to_datetime(df['job_posted_date'])"
   ]
  },
  {
   "cell_type": "code",
   "execution_count": null,
   "id": "df56252c",
   "metadata": {},
   "outputs": [],
   "source": [
    "# df.iloc[0:10][['salary_rate', 'salary_year_avg', 'salary_hour_avg']]\n",
    "df.loc[:, 'salary_year_avg':'salary_hour_avg']"
   ]
  },
  {
   "cell_type": "code",
   "execution_count": null,
   "id": "f21dcc97",
   "metadata": {},
   "outputs": [],
   "source": [
    "median_salary_year = df['salary_year_avg'].median()\n",
    "median_salary_hour = df['salary_hour_avg'].median()"
   ]
  },
  {
   "cell_type": "code",
   "execution_count": null,
   "id": "64ac22d2",
   "metadata": {},
   "outputs": [],
   "source": [
    "df_filled = df\n",
    "df_filled['salary_year_avg'] = df_filled['salary_year_avg'].fillna(median_salary_year)\n",
    "df_filled['salary_hour_avg'] = df_filled['salary_hour_avg'].fillna(median_salary_hour)"
   ]
  },
  {
   "cell_type": "code",
   "execution_count": null,
   "id": "5c6bc41d",
   "metadata": {},
   "outputs": [],
   "source": [
    "df_filled.loc[:, 'salary_year_avg':'salary_hour_avg']\n",
    "# df_filled.loc[50:60]\n",
    "# df.info()"
   ]
  },
  {
   "cell_type": "code",
   "execution_count": null,
   "id": "ff8a4c11",
   "metadata": {},
   "outputs": [],
   "source": [
    "df_unique = df_filled.drop_duplicates()\n",
    "\n",
    "print('length original df:', len(df_filled))\n",
    "print('Length df after drop duplicates:', len(df_unique))\n",
    "print('Number of duplicates:', len(df_filled) - len(df_unique))\n",
    "\n",
    "# print(f\"shape df: {df_filled.shape}\")\n",
    "# print(f\"shape df_unique: {df_unique.shape}\")"
   ]
  },
  {
   "cell_type": "code",
   "execution_count": null,
   "id": "ae69f3ea",
   "metadata": {},
   "outputs": [],
   "source": [
    "df_unique = df_unique.drop_duplicates(subset=['job_title', 'company_name'])\n",
    "\n",
    "print('length original df:', len(df_filled))\n",
    "print('Length df after drop duplicates:', len(df_unique))\n",
    "print('Number of duplicates:', len(df_filled) - len(df_unique))"
   ]
  },
  {
   "cell_type": "code",
   "execution_count": null,
   "id": "0af7a831",
   "metadata": {},
   "outputs": [],
   "source": [
    "df_unique"
   ]
  },
  {
   "cell_type": "code",
   "execution_count": null,
   "id": "c84bc212",
   "metadata": {},
   "outputs": [],
   "source": [
    "# df.sample(10)\n",
    "df.sample(10, random_state=42)"
   ]
  },
  {
   "cell_type": "code",
   "execution_count": null,
   "id": "45d7d8ba",
   "metadata": {},
   "outputs": [],
   "source": [
    "print(\"ID Df\", id(df))\n",
    "print(\"ID Filled Df\", id(df_filled))\n",
    "print(\"Is df and df_filled the same object?\", df is df_filled)"
   ]
  },
  {
   "cell_type": "code",
   "execution_count": null,
   "id": "5a4031c8",
   "metadata": {},
   "outputs": [],
   "source": [
    "dataset = load_dataset('lukebarousse/data_jobs')\n",
    "df_original = dataset['train'].to_pandas()"
   ]
  },
  {
   "cell_type": "code",
   "execution_count": null,
   "id": "d7c16d20",
   "metadata": {},
   "outputs": [],
   "source": [
    "df_alternative = df_original.copy()\n",
    "\n",
    "print(\"ID Original Df\", id(df_original))\n",
    "print(\"ID Alternative Df\", id(df_alternative))\n",
    "print(\"Is df_original and df_alternative the same object?\", df_original is df_alternative)"
   ]
  },
  {
   "cell_type": "code",
   "execution_count": null,
   "id": "0ad04e5b",
   "metadata": {},
   "outputs": [],
   "source": [
    "# in here include Accessing data, data cleaning, and data management"
   ]
  }
 ],
 "metadata": {
  "kernelspec": {
   "display_name": "project_course",
   "language": "python",
   "name": "python3"
  },
  "language_info": {
   "codemirror_mode": {
    "name": "ipython",
    "version": 3
   },
   "file_extension": ".py",
   "mimetype": "text/x-python",
   "name": "python",
   "nbconvert_exporter": "python",
   "pygments_lexer": "ipython3",
   "version": "3.13.5"
  }
 },
 "nbformat": 4,
 "nbformat_minor": 5
}
